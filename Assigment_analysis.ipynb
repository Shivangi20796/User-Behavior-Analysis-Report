{
 "cells": [
  {
   "cell_type": "code",
   "execution_count": 2,
   "id": "35d6519a-26cb-4849-9fdf-c8df6183e6ae",
   "metadata": {},
   "outputs": [
    {
     "name": "stdout",
     "output_type": "stream",
     "text": [
      "Requirement already satisfied: numpy in c:\\users\\shivangi\\appdata\\local\\programs\\python\\python312\\lib\\site-packages (1.26.0)\n"
     ]
    },
    {
     "name": "stderr",
     "output_type": "stream",
     "text": [
      "\n",
      "[notice] A new release of pip is available: 24.2 -> 24.3.1\n",
      "[notice] To update, run: python.exe -m pip install --upgrade pip\n"
     ]
    },
    {
     "name": "stdout",
     "output_type": "stream",
     "text": [
      "Requirement already satisfied: pandas in c:\\users\\shivangi\\appdata\\local\\programs\\python\\python312\\lib\\site-packages (2.2.0)\n",
      "Requirement already satisfied: numpy<2,>=1.26.0 in c:\\users\\shivangi\\appdata\\local\\programs\\python\\python312\\lib\\site-packages (from pandas) (1.26.0)\n",
      "Requirement already satisfied: python-dateutil>=2.8.2 in c:\\users\\shivangi\\appdata\\local\\programs\\python\\python312\\lib\\site-packages (from pandas) (2.8.2)\n",
      "Requirement already satisfied: pytz>=2020.1 in c:\\users\\shivangi\\appdata\\local\\programs\\python\\python312\\lib\\site-packages (from pandas) (2023.3.post1)\n",
      "Requirement already satisfied: tzdata>=2022.7 in c:\\users\\shivangi\\appdata\\local\\programs\\python\\python312\\lib\\site-packages (from pandas) (2023.3)\n",
      "Requirement already satisfied: six>=1.5 in c:\\users\\shivangi\\appdata\\local\\programs\\python\\python312\\lib\\site-packages (from python-dateutil>=2.8.2->pandas) (1.16.0)\n"
     ]
    },
    {
     "name": "stderr",
     "output_type": "stream",
     "text": [
      "\n",
      "[notice] A new release of pip is available: 24.2 -> 24.3.1\n",
      "[notice] To update, run: python.exe -m pip install --upgrade pip\n"
     ]
    },
    {
     "name": "stdout",
     "output_type": "stream",
     "text": [
      "Requirement already satisfied: matplotlib in c:\\users\\shivangi\\appdata\\local\\programs\\python\\python312\\lib\\site-packages (3.8.0)\n",
      "Requirement already satisfied: contourpy>=1.0.1 in c:\\users\\shivangi\\appdata\\local\\programs\\python\\python312\\lib\\site-packages (from matplotlib) (1.1.1)\n",
      "Requirement already satisfied: cycler>=0.10 in c:\\users\\shivangi\\appdata\\local\\programs\\python\\python312\\lib\\site-packages (from matplotlib) (0.12.1)\n",
      "Requirement already satisfied: fonttools>=4.22.0 in c:\\users\\shivangi\\appdata\\local\\programs\\python\\python312\\lib\\site-packages (from matplotlib) (4.43.1)\n",
      "Requirement already satisfied: kiwisolver>=1.0.1 in c:\\users\\shivangi\\appdata\\local\\programs\\python\\python312\\lib\\site-packages (from matplotlib) (1.4.5)\n",
      "Requirement already satisfied: numpy<2,>=1.21 in c:\\users\\shivangi\\appdata\\local\\programs\\python\\python312\\lib\\site-packages (from matplotlib) (1.26.0)\n",
      "Requirement already satisfied: packaging>=20.0 in c:\\users\\shivangi\\appdata\\local\\programs\\python\\python312\\lib\\site-packages (from matplotlib) (23.2)\n",
      "Requirement already satisfied: pillow>=6.2.0 in c:\\users\\shivangi\\appdata\\local\\programs\\python\\python312\\lib\\site-packages (from matplotlib) (10.0.1)\n",
      "Requirement already satisfied: pyparsing>=2.3.1 in c:\\users\\shivangi\\appdata\\local\\programs\\python\\python312\\lib\\site-packages (from matplotlib) (3.1.1)\n",
      "Requirement already satisfied: python-dateutil>=2.7 in c:\\users\\shivangi\\appdata\\local\\programs\\python\\python312\\lib\\site-packages (from matplotlib) (2.8.2)\n",
      "Requirement already satisfied: six>=1.5 in c:\\users\\shivangi\\appdata\\local\\programs\\python\\python312\\lib\\site-packages (from python-dateutil>=2.7->matplotlib) (1.16.0)\n"
     ]
    },
    {
     "name": "stderr",
     "output_type": "stream",
     "text": [
      "\n",
      "[notice] A new release of pip is available: 24.2 -> 24.3.1\n",
      "[notice] To update, run: python.exe -m pip install --upgrade pip\n"
     ]
    },
    {
     "name": "stdout",
     "output_type": "stream",
     "text": [
      "Requirement already satisfied: seaborn in c:\\users\\shivangi\\appdata\\local\\programs\\python\\python312\\lib\\site-packages (0.13.0)\n",
      "Requirement already satisfied: numpy!=1.24.0,>=1.20 in c:\\users\\shivangi\\appdata\\local\\programs\\python\\python312\\lib\\site-packages (from seaborn) (1.26.0)\n",
      "Requirement already satisfied: pandas>=1.2 in c:\\users\\shivangi\\appdata\\local\\programs\\python\\python312\\lib\\site-packages (from seaborn) (2.2.0)\n",
      "Requirement already satisfied: matplotlib!=3.6.1,>=3.3 in c:\\users\\shivangi\\appdata\\local\\programs\\python\\python312\\lib\\site-packages (from seaborn) (3.8.0)\n",
      "Requirement already satisfied: contourpy>=1.0.1 in c:\\users\\shivangi\\appdata\\local\\programs\\python\\python312\\lib\\site-packages (from matplotlib!=3.6.1,>=3.3->seaborn) (1.1.1)\n",
      "Requirement already satisfied: cycler>=0.10 in c:\\users\\shivangi\\appdata\\local\\programs\\python\\python312\\lib\\site-packages (from matplotlib!=3.6.1,>=3.3->seaborn) (0.12.1)\n",
      "Requirement already satisfied: fonttools>=4.22.0 in c:\\users\\shivangi\\appdata\\local\\programs\\python\\python312\\lib\\site-packages (from matplotlib!=3.6.1,>=3.3->seaborn) (4.43.1)\n",
      "Requirement already satisfied: kiwisolver>=1.0.1 in c:\\users\\shivangi\\appdata\\local\\programs\\python\\python312\\lib\\site-packages (from matplotlib!=3.6.1,>=3.3->seaborn) (1.4.5)\n",
      "Requirement already satisfied: packaging>=20.0 in c:\\users\\shivangi\\appdata\\local\\programs\\python\\python312\\lib\\site-packages (from matplotlib!=3.6.1,>=3.3->seaborn) (23.2)\n",
      "Requirement already satisfied: pillow>=6.2.0 in c:\\users\\shivangi\\appdata\\local\\programs\\python\\python312\\lib\\site-packages (from matplotlib!=3.6.1,>=3.3->seaborn) (10.0.1)\n",
      "Requirement already satisfied: pyparsing>=2.3.1 in c:\\users\\shivangi\\appdata\\local\\programs\\python\\python312\\lib\\site-packages (from matplotlib!=3.6.1,>=3.3->seaborn) (3.1.1)\n",
      "Requirement already satisfied: python-dateutil>=2.7 in c:\\users\\shivangi\\appdata\\local\\programs\\python\\python312\\lib\\site-packages (from matplotlib!=3.6.1,>=3.3->seaborn) (2.8.2)\n",
      "Requirement already satisfied: pytz>=2020.1 in c:\\users\\shivangi\\appdata\\local\\programs\\python\\python312\\lib\\site-packages (from pandas>=1.2->seaborn) (2023.3.post1)\n",
      "Requirement already satisfied: tzdata>=2022.7 in c:\\users\\shivangi\\appdata\\local\\programs\\python\\python312\\lib\\site-packages (from pandas>=1.2->seaborn) (2023.3)\n",
      "Requirement already satisfied: six>=1.5 in c:\\users\\shivangi\\appdata\\local\\programs\\python\\python312\\lib\\site-packages (from python-dateutil>=2.7->matplotlib!=3.6.1,>=3.3->seaborn) (1.16.0)\n"
     ]
    },
    {
     "name": "stderr",
     "output_type": "stream",
     "text": [
      "\n",
      "[notice] A new release of pip is available: 24.2 -> 24.3.1\n",
      "[notice] To update, run: python.exe -m pip install --upgrade pip\n"
     ]
    },
    {
     "name": "stdout",
     "output_type": "stream",
     "text": [
      "Requirement already satisfied: scipy in c:\\users\\shivangi\\appdata\\local\\programs\\python\\python312\\lib\\site-packages (1.12.0)\n",
      "Requirement already satisfied: numpy<1.29.0,>=1.22.4 in c:\\users\\shivangi\\appdata\\local\\programs\\python\\python312\\lib\\site-packages (from scipy) (1.26.0)\n"
     ]
    },
    {
     "name": "stderr",
     "output_type": "stream",
     "text": [
      "\n",
      "[notice] A new release of pip is available: 24.2 -> 24.3.1\n",
      "[notice] To update, run: python.exe -m pip install --upgrade pip\n"
     ]
    },
    {
     "name": "stdout",
     "output_type": "stream",
     "text": [
      "Requirement already satisfied: tabulate in c:\\users\\shivangi\\appdata\\local\\programs\\python\\python312\\lib\\site-packages (0.9.0)"
     ]
    },
    {
     "name": "stderr",
     "output_type": "stream",
     "text": [
      "\n",
      "[notice] A new release of pip is available: 24.2 -> 24.3.1\n",
      "[notice] To update, run: python.exe -m pip install --upgrade pip\n"
     ]
    },
    {
     "name": "stdout",
     "output_type": "stream",
     "text": [
      "\n"
     ]
    }
   ],
   "source": [
    "!pip install numpy\n",
    "!pip install pandas\n",
    "!pip install matplotlib\n",
    "!pip install seaborn\n",
    "!pip install scipy\n",
    "!pip install tabulate"
   ]
  },
  {
   "cell_type": "code",
   "execution_count": 3,
   "id": "feca5ae0-f6ba-44a9-94f4-3ef63acfe921",
   "metadata": {},
   "outputs": [],
   "source": [
    "# import python libraries\n",
    "import numpy as np # mathematical use\n",
    "import pandas as pd # dataframe\n",
    "import matplotlib.pyplot as plt # visualizing data\n",
    "%matplotlib inline\n",
    "import seaborn as sn\n",
    "import os\n",
    "from scipy import stats"
   ]
  },
  {
   "cell_type": "code",
   "execution_count": 4,
   "id": "8dc7063c-bc1e-48a9-a57a-3a41303edfe1",
   "metadata": {},
   "outputs": [
    {
     "name": "stdout",
     "output_type": "stream",
     "text": [
      "C:\\Users\\Shivangi\\Downloads\\Assigment/Assignment.xlsx\n"
     ]
    }
   ],
   "source": [
    "current_dir = os.getcwd()\n",
    "file_path = current_dir + \"/Assignment.xlsx\"\n",
    "print(file_path)"
   ]
  },
  {
   "cell_type": "code",
   "execution_count": 5,
   "id": "948e4e0f-e856-42f5-b71a-bc036d2b9551",
   "metadata": {},
   "outputs": [],
   "source": [
    "UserDetails = pd.read_excel(file_path,sheet_name='UserDetails.csv') #data import\n",
    "CookingSessions = pd.read_excel(file_path,sheet_name='CookingSessions.csv')\n",
    "OrderDetails = pd.read_excel(file_path,sheet_name='OrderDetails.csv')"
   ]
  },
  {
   "cell_type": "markdown",
   "id": "37269b67-e4d3-4255-9ab3-ca6901ae0007",
   "metadata": {},
   "source": [
    "__DATA CLEANING__"
   ]
  },
  {
   "cell_type": "code",
   "execution_count": 6,
   "id": "ed6f390f-0749-4e5e-a0e7-6962c246170d",
   "metadata": {},
   "outputs": [
    {
     "name": "stdout",
     "output_type": "stream",
     "text": [
      "Shape of DataFrame 1: (10, 9)\n",
      "Shape of DataFrame 2: (16, 8)\n",
      "Shape of DataFrame 3: (16, 10)\n"
     ]
    }
   ],
   "source": [
    "print(\"Shape of DataFrame 1:\", UserDetails.shape)\n",
    "print(\"Shape of DataFrame 2:\", CookingSessions.shape)\n",
    "print(\"Shape of DataFrame 3:\", OrderDetails.shape)"
   ]
  },
  {
   "cell_type": "code",
   "execution_count": 7,
   "id": "4546135b-9f4b-4e0c-a518-770346fdfa58",
   "metadata": {},
   "outputs": [
    {
     "name": "stdout",
     "output_type": "stream",
     "text": [
      "Missing Values UserDetails:\n",
      "User ID              0\n",
      "User Name            0\n",
      "Age                  0\n",
      "Location             0\n",
      "Registration Date    0\n",
      "Phone                0\n",
      "Email                0\n",
      "Favorite Meal        0\n",
      "Total Orders         0\n",
      "dtype: int64\n",
      "\n",
      " Missing Values CookingSessions:\n",
      "Session ID         0\n",
      "User ID            0\n",
      "Dish Name          0\n",
      "Meal Type          0\n",
      "Session Start      0\n",
      "Session End        0\n",
      "Duration (mins)    0\n",
      "Session Rating     0\n",
      "dtype: int64\n",
      "\n",
      " Missing Values Table_3:\n",
      "Order ID        0\n",
      "User ID         0\n",
      "Order Date      0\n",
      "Meal Type       0\n",
      "Dish Name       0\n",
      "Order Status    0\n",
      "Amount (USD)    0\n",
      "Time of Day     0\n",
      "Rating          2\n",
      "Session ID      0\n",
      "dtype: int64\n"
     ]
    }
   ],
   "source": [
    "# 1. Check for missing values\n",
    "missing_values = UserDetails.isnull().sum()\n",
    "print(\"Missing Values UserDetails:\")\n",
    "print(missing_values)\n",
    "\n",
    "missing_values = CookingSessions.isnull().sum()\n",
    "print(\"\\n Missing Values CookingSessions:\")\n",
    "print(missing_values)\n",
    "\n",
    "missing_values = OrderDetails.isnull().sum()\n",
    "print(\"\\n Missing Values Table_3:\")\n",
    "print(missing_values)"
   ]
  },
  {
   "cell_type": "code",
   "execution_count": 8,
   "id": "2f5bcea7-9592-4599-b805-de03a54b9651",
   "metadata": {},
   "outputs": [
    {
     "name": "stdout",
     "output_type": "stream",
     "text": [
      "Data Types:\n",
      "User ID                      object\n",
      "User Name                    object\n",
      "Age                           int64\n",
      "Location                     object\n",
      "Registration Date    datetime64[ns]\n",
      "Phone                        object\n",
      "Email                        object\n",
      "Favorite Meal                object\n",
      "Total Orders                  int64\n",
      "dtype: object\n",
      "\n",
      "Data Types:\n",
      "Session ID                 object\n",
      "User ID                    object\n",
      "Dish Name                  object\n",
      "Meal Type                  object\n",
      "Session Start      datetime64[ns]\n",
      "Session End        datetime64[ns]\n",
      "Duration (mins)             int64\n",
      "Session Rating            float64\n",
      "dtype: object\n",
      "\n",
      "Data Types:\n",
      "Order ID                 int64\n",
      "User ID                 object\n",
      "Order Date      datetime64[ns]\n",
      "Meal Type               object\n",
      "Dish Name               object\n",
      "Order Status            object\n",
      "Amount (USD)           float64\n",
      "Time of Day             object\n",
      "Rating                 float64\n",
      "Session ID              object\n",
      "dtype: object\n"
     ]
    }
   ],
   "source": [
    "# 2. Check data types\n",
    "data_types = UserDetails.dtypes\n",
    "print(\"Data Types:\")\n",
    "print(data_types)\n",
    "\n",
    "data_types = CookingSessions.dtypes\n",
    "print(\"\\nData Types:\")\n",
    "print(data_types)\n",
    "\n",
    "data_types = OrderDetails.dtypes\n",
    "print(\"\\nData Types:\")\n",
    "print(data_types)"
   ]
  },
  {
   "cell_type": "code",
   "execution_count": 9,
   "id": "5a369e33-b01d-49c4-a44b-c9eac36ef697",
   "metadata": {},
   "outputs": [
    {
     "name": "stdout",
     "output_type": "stream",
     "text": [
      "duplicates Values in a UserDetails:\n",
      "0    False\n",
      "1    False\n",
      "2    False\n",
      "3    False\n",
      "4    False\n",
      "5    False\n",
      "6    False\n",
      "7    False\n",
      "8    False\n",
      "9    False\n",
      "dtype: bool\n",
      "duplicates Values in a  CookingSessions:\n",
      "0     False\n",
      "1     False\n",
      "2     False\n",
      "3     False\n",
      "4     False\n",
      "5     False\n",
      "6     False\n",
      "7     False\n",
      "8     False\n",
      "9     False\n",
      "10    False\n",
      "11    False\n",
      "12    False\n",
      "13    False\n",
      "14    False\n",
      "15    False\n",
      "dtype: bool\n",
      "duplicates Values in a  OrderDetails:\n",
      "0     False\n",
      "1     False\n",
      "2     False\n",
      "3     False\n",
      "4     False\n",
      "5     False\n",
      "6     False\n",
      "7     False\n",
      "8     False\n",
      "9     False\n",
      "10    False\n",
      "11    False\n",
      "12    False\n",
      "13    False\n",
      "14    False\n",
      "15    False\n",
      "dtype: bool\n"
     ]
    }
   ],
   "source": [
    "# Check for duplicate values\n",
    "duplicates = UserDetails.duplicated()\n",
    "print(\"duplicates Values in a UserDetails:\")\n",
    "print(duplicates)\n",
    "\n",
    "duplicates =  CookingSessions.duplicated()\n",
    "print(\"duplicates Values in a  CookingSessions:\")\n",
    "print(duplicates)\n",
    "\n",
    "duplicates =  OrderDetails.duplicated()\n",
    "print(\"duplicates Values in a  OrderDetails:\")\n",
    "print(duplicates)"
   ]
  },
  {
   "cell_type": "code",
   "execution_count": 10,
   "id": "7cef3f6d-f1f4-4b22-a278-1e22138c0b1b",
   "metadata": {},
   "outputs": [
    {
     "name": "stdout",
     "output_type": "stream",
     "text": [
      "<class 'pandas.core.frame.DataFrame'>\n",
      "RangeIndex: 10 entries, 0 to 9\n",
      "Data columns (total 9 columns):\n",
      " #   Column             Non-Null Count  Dtype         \n",
      "---  ------             --------------  -----         \n",
      " 0   User ID            10 non-null     object        \n",
      " 1   User Name          10 non-null     object        \n",
      " 2   Age                10 non-null     int64         \n",
      " 3   Location           10 non-null     object        \n",
      " 4   Registration Date  10 non-null     datetime64[ns]\n",
      " 5   Phone              10 non-null     object        \n",
      " 6   Email              10 non-null     object        \n",
      " 7   Favorite Meal      10 non-null     object        \n",
      " 8   Total Orders       10 non-null     int64         \n",
      "dtypes: datetime64[ns](1), int64(2), object(6)\n",
      "memory usage: 852.0+ bytes\n",
      "None\n",
      "<class 'pandas.core.frame.DataFrame'>\n",
      "RangeIndex: 16 entries, 0 to 15\n",
      "Data columns (total 8 columns):\n",
      " #   Column           Non-Null Count  Dtype         \n",
      "---  ------           --------------  -----         \n",
      " 0   Session ID       16 non-null     object        \n",
      " 1   User ID          16 non-null     object        \n",
      " 2   Dish Name        16 non-null     object        \n",
      " 3   Meal Type        16 non-null     object        \n",
      " 4   Session Start    16 non-null     datetime64[ns]\n",
      " 5   Session End      16 non-null     datetime64[ns]\n",
      " 6   Duration (mins)  16 non-null     int64         \n",
      " 7   Session Rating   16 non-null     float64       \n",
      "dtypes: datetime64[ns](2), float64(1), int64(1), object(4)\n",
      "memory usage: 1.1+ KB\n",
      "None\n",
      "<class 'pandas.core.frame.DataFrame'>\n",
      "RangeIndex: 16 entries, 0 to 15\n",
      "Data columns (total 10 columns):\n",
      " #   Column        Non-Null Count  Dtype         \n",
      "---  ------        --------------  -----         \n",
      " 0   Order ID      16 non-null     int64         \n",
      " 1   User ID       16 non-null     object        \n",
      " 2   Order Date    16 non-null     datetime64[ns]\n",
      " 3   Meal Type     16 non-null     object        \n",
      " 4   Dish Name     16 non-null     object        \n",
      " 5   Order Status  16 non-null     object        \n",
      " 6   Amount (USD)  16 non-null     float64       \n",
      " 7   Time of Day   16 non-null     object        \n",
      " 8   Rating        14 non-null     float64       \n",
      " 9   Session ID    16 non-null     object        \n",
      "dtypes: datetime64[ns](1), float64(2), int64(1), object(6)\n",
      "memory usage: 1.4+ KB\n",
      "None\n"
     ]
    }
   ],
   "source": [
    "print(UserDetails.info())\n",
    "print(CookingSessions.info())\n",
    "print(OrderDetails.info())"
   ]
  },
  {
   "cell_type": "code",
   "execution_count": 11,
   "id": "9c63f7a6-1fe0-4b75-9a16-8c2742e76495",
   "metadata": {},
   "outputs": [
    {
     "name": "stdout",
     "output_type": "stream",
     "text": [
      "  User ID      User Name  Age     Location Registration Date         Phone  \\\n",
      "0    U001  Alice Johnson   28     New York        2023-01-15  123-456-7890   \n",
      "1    U001  Alice Johnson   28     New York        2023-01-15  123-456-7890   \n",
      "2    U001  Alice Johnson   28     New York        2023-01-15  123-456-7890   \n",
      "3    U002      Bob Smith   35  Los Angeles        2023-02-20  987-654-3210   \n",
      "4    U002      Bob Smith   35  Los Angeles        2023-02-20  987-654-3210   \n",
      "\n",
      "             Email Favorite Meal  Total Orders Session ID_x  ...  \\\n",
      "0  alice@email.com        Dinner            12         S001  ...   \n",
      "1  alice@email.com        Dinner            12         S004  ...   \n",
      "2  alice@email.com        Dinner            12         S009  ...   \n",
      "3    bob@email.com         Lunch             8         S002  ...   \n",
      "4    bob@email.com         Lunch             8         S006  ...   \n",
      "\n",
      "  Duration (mins) Session Rating Order ID Order Date  Meal Type_y  \\\n",
      "0              30            4.5     1001 2024-12-01       Dinner   \n",
      "1              30            4.2     1004 2024-12-02    Breakfast   \n",
      "2              40            4.9     1009 2024-12-05       Dinner   \n",
      "3              20            4.0     1002 2024-12-01        Lunch   \n",
      "4              30            4.3     1006 2024-12-03       Dinner   \n",
      "\n",
      "   Order Status  Amount (USD) Time of Day Rating Session ID_y  \n",
      "0     Completed          15.0       Night    5.0         S001  \n",
      "1     Completed           8.0     Morning    4.0         S004  \n",
      "2     Completed          12.0       Night    5.0         S009  \n",
      "3     Completed          10.0         Day    4.0         S002  \n",
      "4     Completed          14.0       Night    4.0         S006  \n",
      "\n",
      "[5 rows x 24 columns]\n"
     ]
    }
   ],
   "source": [
    "# Merge the datasets\n",
    "merged_data = pd.merge(UserDetails, CookingSessions, on='User ID', how='inner')\n",
    "merged_data = pd.merge(merged_data, OrderDetails, on=['User ID', 'Dish Name'], how='inner')\n",
    "\n",
    "# Preview merged dataset\n",
    "print(merged_data.head())"
   ]
  },
  {
   "cell_type": "code",
   "execution_count": 12,
   "id": "ec249b09-1e3e-4e21-9775-86c9a8b96d28",
   "metadata": {},
   "outputs": [
    {
     "data": {
      "text/html": [
       "<div>\n",
       "<style scoped>\n",
       "    .dataframe tbody tr th:only-of-type {\n",
       "        vertical-align: middle;\n",
       "    }\n",
       "\n",
       "    .dataframe tbody tr th {\n",
       "        vertical-align: top;\n",
       "    }\n",
       "\n",
       "    .dataframe thead th {\n",
       "        text-align: right;\n",
       "    }\n",
       "</style>\n",
       "<table border=\"1\" class=\"dataframe\">\n",
       "  <thead>\n",
       "    <tr style=\"text-align: right;\">\n",
       "      <th></th>\n",
       "      <th>Age</th>\n",
       "      <th>Registration Date</th>\n",
       "      <th>Total Orders</th>\n",
       "      <th>Session Start</th>\n",
       "      <th>Session End</th>\n",
       "      <th>Duration (mins)</th>\n",
       "      <th>Session Rating</th>\n",
       "      <th>Order ID</th>\n",
       "      <th>Order Date</th>\n",
       "      <th>Amount (USD)</th>\n",
       "      <th>Rating</th>\n",
       "    </tr>\n",
       "  </thead>\n",
       "  <tbody>\n",
       "    <tr>\n",
       "      <th>count</th>\n",
       "      <td>16.000000</td>\n",
       "      <td>16</td>\n",
       "      <td>16.000000</td>\n",
       "      <td>16</td>\n",
       "      <td>16</td>\n",
       "      <td>16.000000</td>\n",
       "      <td>16.000000</td>\n",
       "      <td>16.000000</td>\n",
       "      <td>16</td>\n",
       "      <td>16.000000</td>\n",
       "      <td>14.000000</td>\n",
       "    </tr>\n",
       "    <tr>\n",
       "      <th>mean</th>\n",
       "      <td>32.687500</td>\n",
       "      <td>2023-03-31 16:30:00</td>\n",
       "      <td>10.562500</td>\n",
       "      <td>2024-12-05 02:50:37.500000</td>\n",
       "      <td>2024-12-05 03:20:56.249999872</td>\n",
       "      <td>30.312500</td>\n",
       "      <td>4.518750</td>\n",
       "      <td>1008.500000</td>\n",
       "      <td>2024-12-04 12:00:00</td>\n",
       "      <td>11.250000</td>\n",
       "      <td>4.285714</td>\n",
       "    </tr>\n",
       "    <tr>\n",
       "      <th>min</th>\n",
       "      <td>25.000000</td>\n",
       "      <td>2023-01-15 00:00:00</td>\n",
       "      <td>5.000000</td>\n",
       "      <td>2024-12-01 12:00:00</td>\n",
       "      <td>2024-12-01 12:20:00</td>\n",
       "      <td>10.000000</td>\n",
       "      <td>4.000000</td>\n",
       "      <td>1001.000000</td>\n",
       "      <td>2024-12-01 00:00:00</td>\n",
       "      <td>7.000000</td>\n",
       "      <td>4.000000</td>\n",
       "    </tr>\n",
       "    <tr>\n",
       "      <th>25%</th>\n",
       "      <td>28.000000</td>\n",
       "      <td>2023-02-20 00:00:00</td>\n",
       "      <td>8.000000</td>\n",
       "      <td>2024-12-03 08:37:30</td>\n",
       "      <td>2024-12-03 08:58:45</td>\n",
       "      <td>20.000000</td>\n",
       "      <td>4.300000</td>\n",
       "      <td>1004.750000</td>\n",
       "      <td>2024-12-02 18:00:00</td>\n",
       "      <td>9.000000</td>\n",
       "      <td>4.000000</td>\n",
       "    </tr>\n",
       "    <tr>\n",
       "      <th>50%</th>\n",
       "      <td>30.500000</td>\n",
       "      <td>2023-03-10 00:00:00</td>\n",
       "      <td>10.000000</td>\n",
       "      <td>2024-12-05 00:30:00</td>\n",
       "      <td>2024-12-05 00:57:30</td>\n",
       "      <td>30.000000</td>\n",
       "      <td>4.550000</td>\n",
       "      <td>1008.500000</td>\n",
       "      <td>2024-12-04 12:00:00</td>\n",
       "      <td>11.500000</td>\n",
       "      <td>4.000000</td>\n",
       "    </tr>\n",
       "    <tr>\n",
       "      <th>75%</th>\n",
       "      <td>35.750000</td>\n",
       "      <td>2023-05-22 00:00:00</td>\n",
       "      <td>12.500000</td>\n",
       "      <td>2024-12-06 23:22:30</td>\n",
       "      <td>2024-12-07 00:00:00</td>\n",
       "      <td>40.000000</td>\n",
       "      <td>4.725000</td>\n",
       "      <td>1012.250000</td>\n",
       "      <td>2024-12-06 06:00:00</td>\n",
       "      <td>13.125000</td>\n",
       "      <td>4.750000</td>\n",
       "    </tr>\n",
       "    <tr>\n",
       "      <th>max</th>\n",
       "      <td>42.000000</td>\n",
       "      <td>2023-08-11 00:00:00</td>\n",
       "      <td>15.000000</td>\n",
       "      <td>2024-12-08 19:30:00</td>\n",
       "      <td>2024-12-08 20:10:00</td>\n",
       "      <td>45.000000</td>\n",
       "      <td>5.000000</td>\n",
       "      <td>1016.000000</td>\n",
       "      <td>2024-12-08 00:00:00</td>\n",
       "      <td>15.000000</td>\n",
       "      <td>5.000000</td>\n",
       "    </tr>\n",
       "    <tr>\n",
       "      <th>std</th>\n",
       "      <td>5.839164</td>\n",
       "      <td>NaN</td>\n",
       "      <td>3.119161</td>\n",
       "      <td>NaN</td>\n",
       "      <td>NaN</td>\n",
       "      <td>10.873324</td>\n",
       "      <td>0.292617</td>\n",
       "      <td>4.760952</td>\n",
       "      <td>NaN</td>\n",
       "      <td>2.435843</td>\n",
       "      <td>0.468807</td>\n",
       "    </tr>\n",
       "  </tbody>\n",
       "</table>\n",
       "</div>"
      ],
      "text/plain": [
       "             Age    Registration Date  Total Orders  \\\n",
       "count  16.000000                   16     16.000000   \n",
       "mean   32.687500  2023-03-31 16:30:00     10.562500   \n",
       "min    25.000000  2023-01-15 00:00:00      5.000000   \n",
       "25%    28.000000  2023-02-20 00:00:00      8.000000   \n",
       "50%    30.500000  2023-03-10 00:00:00     10.000000   \n",
       "75%    35.750000  2023-05-22 00:00:00     12.500000   \n",
       "max    42.000000  2023-08-11 00:00:00     15.000000   \n",
       "std     5.839164                  NaN      3.119161   \n",
       "\n",
       "                    Session Start                    Session End  \\\n",
       "count                          16                             16   \n",
       "mean   2024-12-05 02:50:37.500000  2024-12-05 03:20:56.249999872   \n",
       "min           2024-12-01 12:00:00            2024-12-01 12:20:00   \n",
       "25%           2024-12-03 08:37:30            2024-12-03 08:58:45   \n",
       "50%           2024-12-05 00:30:00            2024-12-05 00:57:30   \n",
       "75%           2024-12-06 23:22:30            2024-12-07 00:00:00   \n",
       "max           2024-12-08 19:30:00            2024-12-08 20:10:00   \n",
       "std                           NaN                            NaN   \n",
       "\n",
       "       Duration (mins)  Session Rating     Order ID           Order Date  \\\n",
       "count        16.000000       16.000000    16.000000                   16   \n",
       "mean         30.312500        4.518750  1008.500000  2024-12-04 12:00:00   \n",
       "min          10.000000        4.000000  1001.000000  2024-12-01 00:00:00   \n",
       "25%          20.000000        4.300000  1004.750000  2024-12-02 18:00:00   \n",
       "50%          30.000000        4.550000  1008.500000  2024-12-04 12:00:00   \n",
       "75%          40.000000        4.725000  1012.250000  2024-12-06 06:00:00   \n",
       "max          45.000000        5.000000  1016.000000  2024-12-08 00:00:00   \n",
       "std          10.873324        0.292617     4.760952                  NaN   \n",
       "\n",
       "       Amount (USD)     Rating  \n",
       "count     16.000000  14.000000  \n",
       "mean      11.250000   4.285714  \n",
       "min        7.000000   4.000000  \n",
       "25%        9.000000   4.000000  \n",
       "50%       11.500000   4.000000  \n",
       "75%       13.125000   4.750000  \n",
       "max       15.000000   5.000000  \n",
       "std        2.435843   0.468807  "
      ]
     },
     "execution_count": 12,
     "metadata": {},
     "output_type": "execute_result"
    }
   ],
   "source": [
    "merged_data.describe()"
   ]
  },
  {
   "cell_type": "code",
   "execution_count": 13,
   "id": "273395ad-b34d-47a2-becd-d42262e7138f",
   "metadata": {},
   "outputs": [
    {
     "name": "stdout",
     "output_type": "stream",
     "text": [
      "categorical columns:\n",
      "User ID\n",
      "User ID\n",
      "U001    3\n",
      "U002    3\n",
      "U003    3\n",
      "U004    2\n",
      "U005    2\n",
      "U006    1\n",
      "U007    1\n",
      "U008    1\n",
      "Name: count, dtype: int64\n",
      "\n",
      "User Name\n",
      "User Name\n",
      "Alice Johnson    3\n",
      "Bob Smith        3\n",
      "Charlie Lee      3\n",
      "David Brown      2\n",
      "Emma White       2\n",
      "Frank Green      1\n",
      "Grace King       1\n",
      "Henry Lee        1\n",
      "Name: count, dtype: int64\n",
      "\n",
      "Location\n",
      "Location\n",
      "New York         3\n",
      "Los Angeles      3\n",
      "Chicago          3\n",
      "San Francisco    2\n",
      "Seattle          2\n",
      "Austin           1\n",
      "Boston           1\n",
      "Miami            1\n",
      "Name: count, dtype: int64\n",
      "\n",
      "Phone\n",
      "Phone\n",
      "123-456-7890    3\n",
      "987-654-3210    3\n",
      "555-123-4567    3\n",
      "444-333-2222    2\n",
      "777-888-9999    2\n",
      "888-777-6666    1\n",
      "999-888-7777    1\n",
      "101-202-3030    1\n",
      "Name: count, dtype: int64\n",
      "\n",
      "Email\n",
      "Email\n",
      "alice@email.com      3\n",
      "bob@email.com        3\n",
      "charlie@email.com    3\n",
      "david@email.com      2\n",
      "emma@email.com       2\n",
      "frank@email.com      1\n",
      "grace@email.com      1\n",
      "henry@email.com      1\n",
      "Name: count, dtype: int64\n",
      "\n",
      "Favorite Meal\n",
      "Favorite Meal\n",
      "Dinner       7\n",
      "Lunch        5\n",
      "Breakfast    4\n",
      "Name: count, dtype: int64\n",
      "\n",
      "Session ID_x\n",
      "Session ID_x\n",
      "S001    1\n",
      "S004    1\n",
      "S009    1\n",
      "S002    1\n",
      "S006    1\n",
      "S010    1\n",
      "S003    1\n",
      "S008    1\n",
      "S011    1\n",
      "S005    1\n",
      "S012    1\n",
      "S007    1\n",
      "S013    1\n",
      "S014    1\n",
      "S015    1\n",
      "S016    1\n",
      "Name: count, dtype: int64\n",
      "\n",
      "Dish Name\n",
      "Dish Name\n",
      "Spaghetti          4\n",
      "Grilled Chicken    4\n",
      "Caesar Salad       3\n",
      "Pancakes           2\n",
      "Veggie Burger      2\n",
      "Oatmeal            1\n",
      "Name: count, dtype: int64\n",
      "\n",
      "Meal Type_x\n",
      "Meal Type_x\n",
      "Dinner       8\n",
      "Lunch        5\n",
      "Breakfast    3\n",
      "Name: count, dtype: int64\n",
      "\n",
      "Meal Type_y\n",
      "Meal Type_y\n",
      "Dinner       8\n",
      "Lunch        5\n",
      "Breakfast    3\n",
      "Name: count, dtype: int64\n",
      "\n",
      "Order Status\n",
      "Order Status\n",
      "Completed    14\n",
      "Canceled      2\n",
      "Name: count, dtype: int64\n",
      "\n",
      "Time of Day\n",
      "Time of Day\n",
      "Night      8\n",
      "Day        5\n",
      "Morning    3\n",
      "Name: count, dtype: int64\n",
      "\n",
      "Session ID_y\n",
      "Session ID_y\n",
      "S001    1\n",
      "S004    1\n",
      "S009    1\n",
      "S002    1\n",
      "S006    1\n",
      "S010    1\n",
      "S003    1\n",
      "S008    1\n",
      "S011    1\n",
      "S005    1\n",
      "S012    1\n",
      "S007    1\n",
      "S013    1\n",
      "S014    1\n",
      "S015    1\n",
      "S016    1\n",
      "Name: count, dtype: int64\n",
      "\n"
     ]
    }
   ],
   "source": [
    "print(\"categorical columns:\")\n",
    "for column in merged_data.select_dtypes(include='object'):\n",
    "    print(column)\n",
    "    print(merged_data[column].value_counts())\n",
    "    print()"
   ]
  },
  {
   "cell_type": "markdown",
   "id": "3a28ae85-081d-47af-81b5-12e4367daa10",
   "metadata": {},
   "source": [
    "__Exploratory Data Analysis__"
   ]
  },
  {
   "cell_type": "code",
   "execution_count": 15,
   "id": "950043a7-7e5b-40fa-8094-998a558de2d6",
   "metadata": {},
   "outputs": [
    {
     "name": "stdout",
     "output_type": "stream",
     "text": [
      "Correlation between Cooking Session Duration and Total Orders:\n",
      "                 Duration (mins)  Total Orders\n",
      "Duration (mins)         1.000000      0.210694\n",
      "Total Orders            0.210694      1.000000\n"
     ]
    },
    {
     "data": {
      "image/png": "[encoded data removed]",
      "text/plain": [
       "<Figure size 800x600 with 2 Axes>"
      ]
     },
     "metadata": {},
     "output_type": "display_data"
    }
   ],
   "source": [
    "# 1. Correlation Analysis\n",
    "\n",
    "correlation = merged_data[['Duration (mins)', 'Total Orders']].corr()\n",
    "print(\"Correlation between Cooking Session Duration and Total Orders:\")\n",
    "print(correlation)\n",
    "\n",
    "#visualization\n",
    "plt.figure(figsize=(8, 6))\n",
    "sn.heatmap(correlation, annot=True, cmap='coolwarm', fmt=\".2f\")\n",
    "plt.title('Correlation Heatmap')\n",
    "plt.savefig('Correlation Heatmap.png') \n",
    "plt.show()"
   ]
  },
  {
   "cell_type": "code",
   "execution_count": 16,
   "id": "55360102-1eb2-4807-81ab-7cc0846aa9ca",
   "metadata": {},
   "outputs": [
    {
     "name": "stdout",
     "output_type": "stream",
     "text": [
      "\n",
      "Top 10 Popular Dishes:\n",
      "Dish Name\n",
      "Spaghetti          4\n",
      "Grilled Chicken    4\n",
      "Caesar Salad       3\n",
      "Pancakes           2\n",
      "Veggie Burger      2\n",
      "Oatmeal            1\n",
      "Name: count, dtype: int64\n"
     ]
    },
    {
     "data": {
      "image/png": "[encoded data removed]",
      "text/plain": [
       "<Figure size 1000x600 with 1 Axes>"
      ]
     },
     "metadata": {},
     "output_type": "display_data"
    }
   ],
   "source": [
    "# 2. Popular Dishes\n",
    "\n",
    "popular_dishes = OrderDetails['Dish Name'].value_counts().head(10)\n",
    "print(\"\\nTop 10 Popular Dishes:\")\n",
    "print(popular_dishes)\n",
    "\n",
    "#visualization\n",
    "plt.figure(figsize=(10, 6))\n",
    "popular_dishes.plot(kind='bar', color='skyblue')\n",
    "plt.title('Top 10 Popular Dishes')\n",
    "plt.xlabel('Dish Name')\n",
    "plt.ylabel('Number of Orders')\n",
    "plt.xticks(rotation=45)\n",
    "plt.savefig('Top 10 Popular Dishes.png')  \n",
    "plt.show()"
   ]
  },
  {
   "cell_type": "code",
   "execution_count": 17,
   "id": "56713367-cb20-43f1-ab6e-a48b5f43e696",
   "metadata": {},
   "outputs": [
    {
     "name": "stdout",
     "output_type": "stream",
     "text": [
      "\n",
      "Average Total Orders by Age Group:\n",
      "Age\n",
      "25     7.0\n",
      "27    10.0\n",
      "28    12.0\n",
      "30     9.0\n",
      "31     5.0\n",
      "35     8.0\n",
      "38    14.0\n",
      "42    15.0\n",
      "Name: Total Orders, dtype: float64\n"
     ]
    },
    {
     "data": {
      "image/png": "[encoded data removed]",
      "text/plain": [
       "<Figure size 1000x600 with 1 Axes>"
      ]
     },
     "metadata": {},
     "output_type": "display_data"
    }
   ],
   "source": [
    "# 3. Demographic Analysis\n",
    "\n",
    "bins = [0, 18, 30, 45, 60, 100]  # Define your age bins\n",
    "labels = ['0-18', '19-30', '31-45', '46-60', '60+']  # Define your age group labels\n",
    "UserDetails['age_group'] = pd.cut(UserDetails['Age'], bins=bins, labels=labels)\n",
    "\n",
    "demographic_analysis = merged_data.groupby('Age')['Total Orders'].mean()\n",
    "print(\"\\nAverage Total Orders by Age Group:\")\n",
    "print(demographic_analysis)\n",
    "\n",
    "#visualization\n",
    "plt.figure(figsize=(10, 6))\n",
    "demographic_analysis.plot(kind='bar', color='lightgreen')\n",
    "plt.title('Average Total Orders by Age Group')\n",
    "plt.xlabel('Age Group')\n",
    "plt.ylabel('Average Total Orders')\n",
    "plt.xticks(rotation=45)\n",
    "plt.savefig('Average Total Orders by Age Group.png')  \n",
    "plt.show()\n"
   ]
  }
 ],
 "metadata": {
  "kernelspec": {
   "display_name": "Python 3 (ipykernel)",
   "language": "python",
   "name": "python3"
  },
  "language_info": {
   "codemirror_mode": {
    "name": "ipython",
    "version": 3
   },
   "file_extension": ".py",
   "mimetype": "text/x-python",
   "name": "python",
   "nbconvert_exporter": "python",
   "pygments_lexer": "ipython3",
   "version": "3.12.1"
  }
 },
 "nbformat": 4,
 "nbformat_minor": 5
}
